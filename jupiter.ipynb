{
  "metadata": {
    "kernelspec": {
      "name": "python",
      "display_name": "Python (Pyodide)",
      "language": "python"
    },
    "language_info": {
      "codemirror_mode": {
        "name": "python",
        "version": 3
      },
      "file_extension": ".py",
      "mimetype": "text/x-python",
      "name": "python",
      "nbconvert_exporter": "python",
      "pygments_lexer": "ipython3",
      "version": "3.8"
    }
  },
  "nbformat_minor": 4,
  "nbformat": 4,
  "cells": [
    {
      "cell_type": "code",
      "source": "import csv\nimport pickle",
      "metadata": {
        "trusted": true
      },
      "outputs": [],
      "execution_count": 26
    },
    {
      "cell_type": "code",
      "source": "def load_table(filepath, delimiterr = ','):\n    \"\"\"\n    :param filepath: file from which the table is extracted\n    :param delimiterr: a string used to separate fields\n    :return: dictionary where key is the column name, values are the column data\n    \"\"\"\n    if filepath[-3:] == 'csv':\n        try:\n            with open(filepath, 'r', newline = '', encoding = 'utf-8') as file:\n                reader = csv.reader(file, delimiter = delimiterr)\n                headers = next(reader)\n                rows = list(reader)\n                list1 = [headers] + rows\n                header = list1[0][0].split(',')\n                row = []\n                for ind in range(len(rows)):\n                    line = rows[ind][0].split(',')\n                    row.append(line)\n                row2 = []\n                total1 = []\n                for ind2 in range(len(row[0])):\n                    listt = []\n                    for ind3 in range(len(row)):\n                        listt.append(row[ind3][ind2])\n                    total1.append(listt)\n                dic1 = dict(zip(header, total1))\n                return dic1\n\n        except FileNotFoundError:\n            return 'Файл не найден'\n    elif filepath[-3:] == 'pkl':\n        try:\n            with open(filepath, 'rb') as file:\n                dic1 = pickle.load(file)\n            return dic1\n        except FileNotFoundError:\n            return 'Файл не найден'\n    elif filepath[-3:] == 'txt':\n        try:\n            with open(filepath, \"r\", encoding = 'utf-8') as file:\n                lines = file.readlines()\n                header = lines[0].strip().split()\n                dic1 = {key: [] for key in header}\n                for line in lines[1:]:\n                    values = line.strip().split()\n                    for i, value in enumerate(values):\n                        dic1[header[i]].append(value)\n            return dic1\n        except FileNotFoundError:\n            return 'Файл не найден'\n",
      "metadata": {
        "trusted": true
      },
      "outputs": [],
      "execution_count": 27
    },
    {
      "cell_type": "code",
      "source": "def save_table(data):\n    \"\"\"\n    :param data: dictionary where key is the column name, values are the column data\n    :return: saves the dictionary to a table in a file in the specified format\n    \"\"\"\n    formatt = input('Введите формат файла, в который хотите сохранить таблицу: ')\n    if formatt == 'csv':\n        kkeys = list(data.keys())\n        vvalues = list(data.values())\n        newlist = []\n        newlist.append(kkeys)\n        for ind in range(len(vvalues[0])):\n            line = []\n            for ind2 in range(len(vvalues)):\n                part = vvalues[ind2][ind]\n                line.append(part)\n            newlist.append(line)\n        try:\n            with open('newflow.csv', 'w+', newline = '') as file:\n                writer = csv.writer(file, delimiter = ';')\n                writer.writerows(newlist)\n                return 'Словарь успешно сохранен в файл'\n        except FileNotFoundError:\n            return 'Файл не найден'\n    elif formatt == 'pkl':\n        try:\n            with open('newflow.pkl', 'wb') as table:\n                pickle.dump(data, table)\n            return 'Словарь успешно сохранен в файл'\n        except FileNotFoundError:\n            return 'Файл не найден'\n    elif formatt == 'txt':\n        kkeys = list(data.keys())\n        vvalues = list(data.values())\n        newlist = []\n        newlist.append(kkeys)\n        for ind in range(len(vvalues[0])):\n            line = []\n            for ind2 in range(len(vvalues)):\n                part = vvalues[ind2][ind]\n                line.append(part)\n            newlist.append(line)\n        try:\n            with open('newflow.txt', 'w+', newline = '') as file:\n                for ind in range(len(newlist)):\n                    line = ''\n                    for ind2 in range(len(newlist[ind])):\n                        line += newlist[ind][ind2] + ' '\n                    file.write(line + \"\\n\")\n                return 'Словарь успешно сохранен в файл'\n        except FileNotFoundError:\n            return 'Файл не найден'\n",
      "metadata": {
        "trusted": true
      },
      "outputs": [],
      "execution_count": 28
    },
    {
      "cell_type": "code",
      "source": "def get_rows_by_number(table, start = 1, stop = 'none', copy_table = False):\n    \"\"\"\n    :param table: dictionary where key is the column name, values are the column data\n    :param start: line number from which the output will be\n    :param stop: line number up to which the output will be\n    :param copy_table: is there a need to save the table to a file\n    :return: information about successful file saving\n    \"\"\"\n    kkeys = list(table.keys())\n    vvalues = list(table.values())\n    newval = []\n    newval.append(kkeys)\n    for ind in range(len(vvalues[0])):\n        line = []\n        for ind2 in range(len(vvalues)):\n            part = vvalues[ind2][ind]\n            line.append(part)\n        newval.append(line)\n    result = []\n    if not(stop == 'none') and not(stop > len(newval)):\n        for lin in range(len(newval)):\n            if start <= lin + 1 <= stop:\n                result.append(newval[lin])\n        if copy_table == False:\n            return result\n        else:\n            try:\n                with open('newflow1.csv', 'w+', newline='') as file:\n                    writer = csv.writer(file, delimiter=';')\n                    writer.writerows(result)\n                    return 'Словарь успешно сохранен в файл'\n            except FileNotFoundError:\n                return 'Файл не найден'",
      "metadata": {
        "trusted": true
      },
      "outputs": [],
      "execution_count": 29
    },
    {
      "cell_type": "code",
      "source": "def get_rows_by_index(table, figures, copy_table = False):\n    \"\"\"\n    :param table: dictionary where key is the column name, values are the column data\n    :param figures: number of lines to output\n    :param copy_table: is there a need to save the table to a file\n    :return: dictionary or information about successful saving of the dictionary to a file\n    \"\"\"\n    kkeys = list(table.keys())\n    vvalues = list(table.values())\n    newval = []\n    newval.append(kkeys)\n    for ind in range(len(vvalues[0])):\n        line = []\n        for ind2 in range(len(vvalues)):\n            part = vvalues[ind2][ind]\n            line.append(part)\n        newval.append(line)\n    result = []\n    for ind3 in range(len(figures)):\n        result.append(newval[figures[ind3]])\n    if copy_table == False:\n        return result\n    else:\n        try:\n            with open('newflow2.csv', 'w+', newline='') as file:\n                writer = csv.writer(file, delimiter=';')\n                writer.writerows(result)\n                return 'Словарь успешно сохранен в файл'\n        except FileNotFoundError:\n            return 'Файл не найден'",
      "metadata": {
        "trusted": true
      },
      "outputs": [],
      "execution_count": 30
    },
    {
      "cell_type": "code",
      "source": "def get_column_types(table):\n    \"\"\"\n    :param table: dictionary where key is the column name, values are the column data\n    :return: dictionary with information about the type of values in the column\n    \"\"\"\n    try:\n        vvalues = list(table.values())\n        kkeys = []\n        for ind in range(len(vvalues)):\n            kkeys.append((ind + 1, type(vvalues[ind][0])))\n        return dict(kkeys)\n    except:\n        return 'Не удалось создать словарь'",
      "metadata": {
        "trusted": true
      },
      "outputs": [],
      "execution_count": 31
    },
    {
      "cell_type": "code",
      "source": "def set_column_types(dictt):\n    \"\"\"\n    :param dictt: dictionary where key is the column name, values are the column data\n    :return: writing a dictionary with information about the type of values in columns to a file\n    \"\"\"\n    kkeys = [list(dictt.keys())]\n    vvalues = [list(dictt.values())]\n    total = kkeys + vvalues\n    try:\n        with open('newflow3.csv', 'w+', newline = '') as file:\n            writer = csv.writer(file, delimiter = ';')\n            writer.writerows(total)\n            return 'Словарь успешно сохранен в файл'\n    except FileNotFoundError:\n        return 'Файл не найден'",
      "metadata": {
        "trusted": true
      },
      "outputs": [],
      "execution_count": 32
    },
    {
      "cell_type": "code",
      "source": "def get_values(table, column = 0):\n    \"\"\"\n    :param table: dictionary where key is the column name, values are the column data\n    :param column: table column number\n    :return: list of table values from a column or by column number\n    \"\"\"\n    try:\n        if type(column) == int:\n            vvalues = list(table.values())\n            return vvalues[column - 1]\n        else:\n            return table[column]\n    except:\n        return 'Не удалось вывести значения'",
      "metadata": {
        "trusted": true
      },
      "outputs": [],
      "execution_count": 33
    },
    {
      "cell_type": "code",
      "source": "def get_value(table, column = 0):\n    \"\"\"\n    :param table: dictionary where key is the column name, values are the column data\n    :param column: element number in a single-row table\n    :return: element of a table\n    \"\"\"\n\n    try:\n        kkeys = list(table.keys())\n        if type(column) == int:\n            return kkeys[column]\n        else:\n            return column\n    except:\n        return 'Не удалось вывести элемент'\n",
      "metadata": {
        "trusted": true
      },
      "outputs": [],
      "execution_count": 34
    },
    {
      "cell_type": "code",
      "source": "def set_values(table, column = 0):\n    \"\"\"\n    :param table: dictionary where key is the column name, values are the column data\n    :param column: column name or number\n    :return: list of values for table column\n    \"\"\"\n    try:\n        if type(column) == int:\n            vvalues = list(table.values())\n            vvalues[column - 1] = input('Введите новое значение: ').split()\n            return vvalues\n        else:\n            kkeys = list(table.keys())\n            ind = kkeys.index(column)\n            vvalues = list(table.values())\n            vvalues[ind] = input('Введите новое значение: ').split()\n            return vvalues\n    except:\n        return 'Не удалось создать список'\n",
      "metadata": {
        "trusted": true
      },
      "outputs": [],
      "execution_count": 35
    },
    {
      "cell_type": "code",
      "source": "def set_value(table, column):\n    \"\"\"\n    :param table: dictionary where key is the column name, values are the column data\n    :param column: element name or number\n    :return: element\n    \"\"\"\n    try:\n        kkeys = list(table.keys())\n        if type(column) == int:\n            kkeys[column - 1] = input('Введите новое значение: ')\n            return kkeys\n        else:\n            ind = kkeys.index(column)\n            kkeys[ind] = input('Введите новое значение: ')\n            return kkeys\n    except:\n        return 'Не удалось вывести элемент'",
      "metadata": {
        "trusted": true
      },
      "outputs": [],
      "execution_count": 36
    },
    {
      "cell_type": "code",
      "source": "def print_table(data):\n    \"\"\"\n    :param data: dictionary where key is the column name, values are the column data\n    :return: table\n    \"\"\"\n    try:\n        kkeys = list(data.keys())\n        vvalues = list(data.values())\n        newlist = []\n        newlist.append(kkeys)\n        for ind in range(len(vvalues[0])):\n            line = []\n            for ind2 in range(len(vvalues)):\n                part = vvalues[ind2][ind]\n                line.append(part)\n            newlist.append(line)\n        result = ''\n        for ind in range(len(newlist)):\n            line = ''\n            for ind2 in range(len(newlist[ind])):\n                line += newlist[ind][ind2] + ' '\n            result += line + '\\n'\n        return result\n    except:\n        return 'Ошибка вывода таблицы'",
      "metadata": {
        "trusted": true
      },
      "outputs": [],
      "execution_count": 37
    },
    {
      "cell_type": "raw",
      "source": "filepath = 'gogl.csv'\ndelimiterr = ';' # Change to ',' if your delimiter is a comma.\ntable_data = load_table(filepath, delimiterr)\nprint(load_table(filepath, delimiterr))\nprint(save_table(table_data))\nprint(get_rows_by_number(table_data, 1, 3))\nprint(get_rows_by_index(table_data, [0, 2]))\nprint(get_column_types(table_data))\nprint(set_column_types(get_column_types(table_data)))\nprint(get_values(table_data, 'Страна'))\nprint(get_value(table_data, 2))\nprint(set_values(table_data, 'Имя'))\nprint(set_value(table_data, 3))\nprint(print_table(table_data))",
      "metadata": {}
    },
    {
      "cell_type": "code",
      "source": "filepath = 'gogl.csv'\ndelimiterr = ';' \nprint(load_table(filepath, delimiterr))\nprint(save_table(table_data))\nprint(get_rows_by_number(table_data, 1, 3))\nprint(get_rows_by_index(table_data, [0, 2]))\nprint(get_column_types(table_data))\nprint(set_column_types(get_column_types(table_data)))\nprint(get_values(table_data, 'Страна'))\nprint(get_value(table_data, 2))\nprint(set_values(table_data, 'Имя'))\nprint(set_value(table_data, 3))\nprint(print_table(table_data))",
      "metadata": {
        "trusted": true
      },
      "outputs": [
        {
          "name": "stdout",
          "text": "{'Фамилия': ['Иванов', 'Петров', 'Сидоров'], 'Имя': ['Петя', 'Вася', 'Коля'], 'Страна': ['Россия', 'Казахстан', 'Беларусь'], 'Класс': ['11', '8', '5'], 'Домашние животные': ['TRUE', 'FALSE', 'TRUE']}\nNone\n[['Фамилия', 'Имя', 'Страна', 'Класс', 'Домашние животные'], ['Иванов', 'Петя', 'Россия', '11', 'TRUE'], ['Петров', 'Вася', 'Казахстан', '8', 'FALSE']]\n[['Фамилия', 'Имя', 'Страна', 'Класс', 'Домашние животные'], ['Петров', 'Вася', 'Казахстан', '8', 'FALSE']]\n{1: <class 'str'>, 2: <class 'str'>, 3: <class 'str'>, 4: <class 'str'>, 5: <class 'str'>}\nСловарь успешно сохранен в файл\n['Россия', 'Казахстан', 'Беларусь']\nСтрана\nНе удалось создать список\n['Фамилия', 'Имя', <PyodideFuture pending cb=[WebLoop._decrement_in_progress()]>, 'Класс', 'Домашние животные']\nФамилия Имя Страна Класс Домашние животные \nИванов Петя Россия 11 TRUE \nПетров Вася Казахстан 8 FALSE \nСидоров Коля Беларусь 5 TRUE \n\n",
          "output_type": "stream"
        },
        {
          "output_type": "stream",
          "name": "stdin",
          "text": "Введите формат файла, в который хотите сохранить таблицу:  sdvd\nВведите новое значение:  sdv\nВведите новое значение:  dv\n"
        }
      ],
      "execution_count": 39
    },
    {
      "cell_type": "code",
      "source": "",
      "metadata": {
        "trusted": true
      },
      "outputs": [],
      "execution_count": null
    }
  ]
}